{
  "nbformat": 4,
  "nbformat_minor": 0,
  "metadata": {
    "colab": {
      "provenance": []
    },
    "kernelspec": {
      "name": "python3",
      "display_name": "Python 3"
    },
    "language_info": {
      "name": "python"
    }
  },
  "cells": [
    {
      "cell_type": "markdown",
      "source": [],
      "metadata": {
        "id": "rj7yxdi58Xmb"
      }
    },
    {
      "cell_type": "markdown",
      "source": [
        "# Theory Questions:-\n",
        "# 1. what is object- oriented programing?\n",
        "-  # object -oriented programming is called oop.\n",
        "     oop is a programming paradigm based on the concept of \"objects\".\n",
        "     objects are instances of classes.\n",
        "     classes are blueprints for creating objects.\n",
        "# 2. what is a class in oop?\n",
        " - # A class is a blueprint for creating objects\n",
        "     A class defines the properties and methods of an object\n",
        "     A class is defined using the class keyword.\n",
        "# 3.what is an object in oop?\n",
        "- #  An object is an instance of a class.\n",
        "     An object is created using the class name followed by parenthese.\n",
        "     An object has its own state and behaviour.\n",
        "     An object is created using the class name followed by parenthese.\n",
        "# 4. what is the difference between abstraction and encapsulation?\n",
        "- #  abstraction :- in oop abstraction focuses on presenting only\n",
        "     essential\n",
        "     features of an object, hiding complex implementation details.\n",
        "     encapsulation:- bundles data and methods within a single unit (like a class) and controls access to them, protecting the internal state of an object.\n",
        "# 5. what are dunder method in python?\n",
        " - # in python, dunder methods, also known as magic methods or special\n",
        "     methods,are methods with double underscores(_) at the beginning and end of their names, used to define specific behaviors for built-in operations or functionalities in classes.\n",
        "# 6. Explain the concept of inhertiance in oop.\n",
        "  - # in python, inheritance is a mechanism where a new class (the\n",
        "      derived or child class) inherits attributes and methods from an existing class (the base or parent class),promoting code reuse and organization.\n",
        "# 7.what is polymorphism in pyhon?\n",
        "-  # in python, polymorphism meaning\"many forms,\" \"allows object of\n",
        "     different classes to be treated as objects of a common type. enbling flexible and dynamic code where the same method call can produce a different result based on the object class.\n",
        "# 8. How is encapsulation achived in python?\n",
        "-  # in python, encapsulation, the bundling of data and methods that\n",
        "     operate on that data within a class, is achieved through conventions and practices. not strict access modifiers like public, private or protected as in other languages.\n",
        "# 9.  what is a constructor in python?\n",
        "- # In python constuctor is a Specified method___init____ used to\n",
        "     intilaze the attributes of a newlycreated object when a class is instratained.it's automatically called when you create an object of a class and allows you to set intial values for the object's attributes.\n",
        "# 10. what are class and static method in python?\n",
        "- # in python class methods are bound to the class itself and            are       accesses using the class name.\n",
        "static methods are also bound to the class but don't have access to the class or instance state.\n",
        "# 11. what is method overloading in python?\n",
        "- # in python, while you can't directly overload methods in the way  \n",
        "     you can in languages like java or c++, you can achieve similar functionally using defult arguments, variable- length arguments(*args,**kwargs). or conditional logic within a single function.\n",
        "# 12. what is method overriding in oop?\n",
        " - # in python oop, method overriding allows a subclass to provide     specific implemention of a method that is alredy defined in its\n",
        "      superclass, enabling customized behaviour while maintaing the same method signature.\n",
        "\n",
        "\n",
        "\n",
        "# 13. what is a property decorator in python?\n",
        "- # The @ property decorator in python allows you to define methods\n",
        "     that act like attributes, enabling controlled access, validation, and computation\n",
        "     when accessing or modifying object attributes.\n",
        "# 14. why is a polymorphism important in oop?\n",
        "- # polymorphism is crcuial in oop because it enables code  \n",
        "     reusability, flexibility and extensibility by allowing objects of different classes to be treated uniformaly through acommon interface, promoting more maintainable and adaptable software.\n",
        "# 15. what is an abstract class in python?\n",
        "- #  in python abstract class is a blueprint for other classes,  \n",
        "     defined using the abc module, containig abstract methods (methods without implemenation) that subclasses must implement.\n",
        "# 16. what are the advantage of oop?\n",
        "- # oop has many advantage:-\n",
        "     modularity, encapsulation, code resuability, polymorphism, inheritance,scalability, abstraction ,problem -solving, security, ease of troubleshooting.\n",
        "     oop also imp[roves code organization,collaboration an dproductivity.\n",
        "# 17. what is the difference between a class variable and an instance variable?\n",
        "- # In object- oreiented programing. a class varaible(also known as a\n",
        "     static variable) is shared across all instances of a class. while an instance variable is unique to each instance (object) of the class.\n",
        "# 18. what is multiple inheritance in python?\n",
        "- # in python, multiple inheritance is a feature that allows a class  \n",
        "     to inherit attributes and methods from more than one parent class. this is different from single inheritance, where a class only inherit from one parent class.\n",
        "# 19. Explain the purpose of ---str ---- and\"---repr---\" method in python?\n",
        "- #   in python __ str ___ provides a user - freindly, informal string\n",
        "      representation of an object, while ___ repr____ offers a more technical, unambigous representation suitable for debugging and development.\n",
        "# 20. what is the signifance of super() function in python?\n",
        "-  # in python,super() function is a built-in-function used within a\n",
        "     subclass to call methods or access attributes of its parent (or super) class, facilitating inheritance and code reuse.\n",
        "# 21. what is the difference between @static method and @class method in python?\n",
        "-  # in python,@staticmethod defines method that are functions with a\n",
        "     class but don't have access to the class or instance state, while@classmethod defines methods that take the class itself as the first argument(usually named cls) and can access and modify class-level attributes.\n",
        "# 22. how does polymorphism work in python with inheritance?\n",
        "- #  in python, polymorphism with inheritance is achieved through\n",
        "     method overriding, where a child class redefines a method inherited from its parent class, allowing objects of different classes to be treated as object of a common base class.\n",
        "# 23.  what is method chainging in python oop?\n",
        "- #   in python, method chaining allows you to call multiple methods\n",
        "      sequentially on the same object in a single line of code by ensuring that each method returns the object itself(or a derived version of it), enabling a fluent and concise syntax.\n",
        "# 24. what is the signifance of ___del__-method in python?\n",
        "-  # in python, the ___del___() method, also known as a destructor or\n",
        "     finalizer, is calles when an object is about to be garbage collected, allowing for cleanup of resources before the object is destroyed.\n",
        "# 25. what is the purpose of ___call__method in python?\n",
        "-  # the purpose of the___call___ method in python is to make an\n",
        "     instance of a class callable, meaning you can call that instance like  a function (eg:-- instance()"
      ],
      "metadata": {
        "id": "byXQIwF4lmnl"
      }
    },
    {
      "cell_type": "code",
      "source": [],
      "metadata": {
        "id": "xlCGEaxl8L47"
      },
      "execution_count": null,
      "outputs": []
    },
    {
      "cell_type": "code",
      "source": [
        "#1.create a parent class animal with a method speak() that printa a generic message. create a child class dog that overrides the speak() method to print bark!\n",
        "class Animal:\n",
        "  def speak(self):\n",
        "        print(\"this animal makes a sound\")\n",
        "class dog(Animal):\n",
        "  def speak(self):\n",
        "        print(\"the dog barks!\")\n",
        "dog = dog()\n",
        "dog.speak()"
      ],
      "metadata": {
        "colab": {
          "base_uri": "https://localhost:8080/"
        },
        "id": "cTHS1aU4G9JW",
        "outputId": "6f3e78af-3f2a-4e82-fe5e-d37f763e59d2"
      },
      "execution_count": null,
      "outputs": [
        {
          "output_type": "stream",
          "name": "stdout",
          "text": [
            "the dog barks!\n"
          ]
        }
      ]
    },
    {
      "cell_type": "code",
      "source": [
        "#2. write a program to create an abstract class shape with a method area(),derive classes circle and rectangle from if and implement the area method().\n",
        "import abc # import the abc module\n",
        "\n",
        "class shape:\n",
        "\n",
        "   @abc.abstractmethod\n",
        "   def calculate_area(self):\n",
        "        pass\n",
        "class circle(shape):\n",
        "   def calculate_area(self):\n",
        "      return \"area of circle is pi r **2\"\n",
        "class rectangle(shape):\n",
        "   def calculate_area(self):\n",
        "      return \"area of rectangle is length*breath\"\n",
        "circle = circle()\n",
        "circle.calculate_area()\n",
        "\n"
      ],
      "metadata": {
        "colab": {
          "base_uri": "https://localhost:8080/",
          "height": 35
        },
        "id": "1ZgTl0zQx6UL",
        "outputId": "dddc14f6-d690-4562-ec38-8407eecfa1ec"
      },
      "execution_count": null,
      "outputs": [
        {
          "output_type": "execute_result",
          "data": {
            "text/plain": [
              "'area of circle is pi r **2'"
            ],
            "application/vnd.google.colaboratory.intrinsic+json": {
              "type": "string"
            }
          },
          "metadata": {},
          "execution_count": 10
        }
      ]
    },
    {
      "cell_type": "code",
      "source": [
        "rectangle1=rectangle()\n",
        "rectangle1.calculate_area()"
      ],
      "metadata": {
        "colab": {
          "base_uri": "https://localhost:8080/",
          "height": 35
        },
        "id": "-T3My5HTwxjB",
        "outputId": "0a7af68f-1577-4309-e0da-b9bd14735007"
      },
      "execution_count": null,
      "outputs": [
        {
          "output_type": "execute_result",
          "data": {
            "text/plain": [
              "'area of rectangle is length*breath'"
            ],
            "application/vnd.google.colaboratory.intrinsic+json": {
              "type": "string"
            }
          },
          "metadata": {},
          "execution_count": 11
        }
      ]
    },
    {
      "cell_type": "code",
      "source": [
        "# 3.implement a multi-level inheritance scenario where a vechicle has an attribute type derive a class car and further derive a class electric car that add a battery attribute.\n",
        "# vechicle has a parent class\n",
        "class vechicle:\n",
        "    def vechicle_info(self):\n",
        "             print(\"inside the vechicle\")\n",
        "class car(vechicle):\n",
        "    def car_info(self):\n",
        "                print(\"inside the car\")\n",
        "class electriccar(car):\n",
        "    def electric_car_info(self):\n",
        "                print(\"inside  electric car\")\n",
        "car1 = car()\n",
        "car1.car_info()\n",
        "car1.vechicle_info()\n",
        "E1=electriccar()\n",
        "E1.electric_car_info()\n",
        "\n"
      ],
      "metadata": {
        "colab": {
          "base_uri": "https://localhost:8080/"
        },
        "id": "gDCVZ0U4x6jN",
        "outputId": "ef7822c1-7536-42f0-9dc6-4fac25a2a973"
      },
      "execution_count": null,
      "outputs": [
        {
          "output_type": "stream",
          "name": "stdout",
          "text": [
            "inside the car\n",
            "inside the vechicle\n",
            "inside  electric car\n"
          ]
        }
      ]
    },
    {
      "cell_type": "code",
      "source": [
        "#4.demonstrate polymorphism by creating a base class bird with a method fly(), create two derived classes soparrow and penguin that override the fly( )method.\n",
        "class bird:\n",
        "  def fly(self):\n",
        "    print(\"bird can fly\")\n",
        "class sparrow(bird):\n",
        "  def fly (self):\n",
        "    print(\"sparrow fly\")\n",
        "class pengiun(bird):\n",
        "  def fly(self):\n",
        "    print(\"penguin fly\")\n",
        "bird =[sparrow(),pengiun()]\n",
        "for a_bird in bird:\n",
        " a_bird.fly()"
      ],
      "metadata": {
        "colab": {
          "base_uri": "https://localhost:8080/"
        },
        "id": "fmIZ07m8AYVu",
        "outputId": "08d65952-87d4-4593-f9c8-892c11b5d02b"
      },
      "execution_count": null,
      "outputs": [
        {
          "output_type": "stream",
          "name": "stdout",
          "text": [
            "sparrow fly\n",
            "penguin fly\n"
          ]
        }
      ]
    },
    {
      "cell_type": "code",
      "source": [
        "# 5 write a program to demonstrate encapsulation by creating a class bank account with private attributes balance and methods to deposit, withdraw and check balance.\n",
        "class bank:  #  neither you deposit or withdraw\n",
        "    def __init__(self, balance=0):      # initalize balance to 0 if not provided\n",
        "       self._balance = balance\n",
        "\n",
        "    def deposit(self,amount):\n",
        "         self._balance+=amount\n",
        "\n",
        "    def withdraw(self,amount):\n",
        "      if self._balance>=amount:\n",
        "        self._balance-=amount\n",
        "        return True\n",
        "      else:\n",
        "        return False\n",
        "\n",
        "    def get_balance(self):\n",
        "       return self._balance\n",
        "account1= bank(100)   # create an instance of the bank class\n",
        "account1.get_balance()\n",
        "\n",
        "account1.deposit(2000)\n",
        "account1.get_balance()\n",
        "\n"
      ],
      "metadata": {
        "colab": {
          "base_uri": "https://localhost:8080/"
        },
        "id": "laTLL4wTFqwL",
        "outputId": "22ac23c2-784a-4718-c0f2-51a87f570f42"
      },
      "execution_count": null,
      "outputs": [
        {
          "output_type": "execute_result",
          "data": {
            "text/plain": [
              "2100"
            ]
          },
          "metadata": {},
          "execution_count": 17
        }
      ]
    },
    {
      "cell_type": "code",
      "source": [
        "account1.withdraw(1000)\n",
        "account1.get_balance()"
      ],
      "metadata": {
        "colab": {
          "base_uri": "https://localhost:8080/"
        },
        "id": "_uacyiK2yeWH",
        "outputId": "e5e8e1b5-7fae-4fae-dc16-a8d0833ebbd5"
      },
      "execution_count": null,
      "outputs": [
        {
          "output_type": "execute_result",
          "data": {
            "text/plain": [
              "1100"
            ]
          },
          "metadata": {},
          "execution_count": 18
        }
      ]
    },
    {
      "cell_type": "code",
      "source": [
        "#6 demonstrate runtime polymorphism using a method play() in a base class instrument. derive classes guitar and piano that implement their own version of play().\n",
        "class instrument:\n",
        "  def play(self):\n",
        "     print(\" play the instrument\")\n",
        "class guitar(instrument):\n",
        "  def play(self):\n",
        "      print(\"play the guitar\")\n",
        "class piano(instrument):\n",
        "  def play(self):\n",
        "       print(\"play the piano\")\n",
        "instrument =[guitar(),piano()]\n",
        "for a_instrument in instrument:\n",
        "  a_instrument.play()\n"
      ],
      "metadata": {
        "id": "b-9FGh4sFq8y",
        "colab": {
          "base_uri": "https://localhost:8080/"
        },
        "outputId": "686b64f0-c0b8-482c-c636-69e612fcab5d"
      },
      "execution_count": null,
      "outputs": [
        {
          "output_type": "stream",
          "name": "stdout",
          "text": [
            "play the guitar\n",
            "play the piano\n"
          ]
        }
      ]
    },
    {
      "cell_type": "code",
      "source": [
        "#7create a class mathoperations with a class method add_number() to add numbers and a static method substract_numbers () to subtract two numbers.\n",
        "class math_operation:\n",
        "  @classmethod\n",
        "  def add_number(cls,a,b):\n",
        "    return a+b\n",
        "  @staticmethod\n",
        "  def substract_number(a,b):\n",
        "      return a-b\n",
        "\n",
        "math_operation.substract_number(30,20)\n",
        "\n"
      ],
      "metadata": {
        "colab": {
          "base_uri": "https://localhost:8080/"
        },
        "id": "wA8AF9Sizpx4",
        "outputId": "e57548dd-5edb-4df9-bdf6-f2b0466b2e3b"
      },
      "execution_count": null,
      "outputs": [
        {
          "output_type": "execute_result",
          "data": {
            "text/plain": [
              "10"
            ]
          },
          "metadata": {},
          "execution_count": 3
        }
      ]
    },
    {
      "cell_type": "code",
      "source": [
        "math_operation.add_number(30,20)"
      ],
      "metadata": {
        "colab": {
          "base_uri": "https://localhost:8080/"
        },
        "id": "c1jKET3LszrU",
        "outputId": "f3274256-7ff6-4208-f3c0-36e9d9cccd11"
      },
      "execution_count": null,
      "outputs": [
        {
          "output_type": "execute_result",
          "data": {
            "text/plain": [
              "50"
            ]
          },
          "metadata": {},
          "execution_count": 4
        }
      ]
    },
    {
      "cell_type": "code",
      "source": [
        "# 8 implement a class person with a class method to count the total number of person created..\n",
        "class person:\n",
        "  total_person =0\n",
        "  def __init__(self,name):\n",
        "    self.name =name\n",
        "    person.total_person = person.total_person +1\n",
        "  @classmethod\n",
        "  def get_total_person(cls):\n",
        "      return cls.total_person\n",
        "      person.total_person\n",
        "person1=person(\"alice\")\n",
        "person2=person(\"ankita\")\n",
        "person1.name       # alice\n",
        "person2.name       # ankita\n",
        "person.get_total_person()\n"
      ],
      "metadata": {
        "colab": {
          "base_uri": "https://localhost:8080/"
        },
        "id": "JFz783o7zp5u",
        "outputId": "ea621a8c-9e11-4393-f79a-ec08234d0d23"
      },
      "execution_count": null,
      "outputs": [
        {
          "output_type": "execute_result",
          "data": {
            "text/plain": [
              "2"
            ]
          },
          "metadata": {},
          "execution_count": 9
        }
      ]
    },
    {
      "cell_type": "code",
      "source": [
        "#9. write a class fraction with attributes numerator and denominator override he string method to display the fraction as \"numerator/ denominator\"\n",
        "class fraction:\n",
        "  def __init__(self,numerator,denominator):\n",
        "    self.numerator=numerator\n",
        "    self.denominator=denominator\n",
        "  def __str__(self):\n",
        "    return f\"{self.numerator} / {self.denominator}\"\n",
        "  def __add__(self,other):\n",
        "    new_numerator=self.numerator*other.denominator+self.denominator*other.numerator\n",
        "    new_denominator=self.denominator*other.denominator\n",
        "    return fraction(new_numerator,new_denominator)\n",
        "my_fraction=fraction(4,5)\n",
        "print(my_fraction)\n",
        "other_fraction=fraction(2,3)\n",
        "print(other_fraction)\n",
        "result=my_fraction+other_fraction\n",
        "print(result)\n",
        "\n",
        "\n"
      ],
      "metadata": {
        "colab": {
          "base_uri": "https://localhost:8080/"
        },
        "id": "8P2ZYVpQ3r3H",
        "outputId": "7eb440ef-fe1a-4a07-c215-cd0662b59f2f"
      },
      "execution_count": null,
      "outputs": [
        {
          "output_type": "stream",
          "name": "stdout",
          "text": [
            "4 / 5\n",
            "2 / 3\n",
            "22 / 15\n"
          ]
        }
      ]
    },
    {
      "cell_type": "code",
      "source": [
        "# 10. demonstrate operator overloading by creating a class vector and overriding the add method to add two vector\n",
        "class vector:\n",
        "  def __init__(self,x,y):\n",
        "    self.x=x\n",
        "    self.y=y\n",
        "  def __add__(self,other):\n",
        "      return vector(self.x+other.x,self.y+other.y)\n",
        "v1=vector(1,2)\n",
        "v2=vector(3,4)\n",
        "v3=v1+v2\n",
        "print(v3.x,v3.y)"
      ],
      "metadata": {
        "colab": {
          "base_uri": "https://localhost:8080/"
        },
        "id": "uzX4pejZ3r9r",
        "outputId": "f23e2776-8192-4d1e-d0f0-114206660735"
      },
      "execution_count": null,
      "outputs": [
        {
          "output_type": "stream",
          "name": "stdout",
          "text": [
            "4 6\n"
          ]
        }
      ]
    },
    {
      "cell_type": "code",
      "source": [
        "# 11.  create a class person with attributes name and age. add a method greet() that prints(\"hello,my name is{name} and i am {age} years old.\")\n",
        "class person:\n",
        "  def __init__(self,name,age):\n",
        "     self.name=name\n",
        "     self.age =age\n",
        "  def greet(self):\n",
        "      print(f\"hello,my name is {self.name} and i am {self.age} years old\")\n",
        "person1 = person(\"ankita\",32)\n",
        "person1.greet()\n"
      ],
      "metadata": {
        "colab": {
          "base_uri": "https://localhost:8080/"
        },
        "id": "oFPFd7oQzp-b",
        "outputId": "82d21456-5d25-4272-c3ba-e9c99044ad61"
      },
      "execution_count": null,
      "outputs": [
        {
          "output_type": "stream",
          "name": "stdout",
          "text": [
            "hello,my name is ankita and i am 32 years old\n"
          ]
        }
      ]
    },
    {
      "cell_type": "code",
      "source": [
        "#12.implement a class student with attributes name and grade. create a method average_grade() to compute the average of the grades.\n",
        "class student:\n",
        "  def __init__(self,name,grade):\n",
        "    self.name=name\n",
        "    self.grade=grade\n",
        "  def average_grade(self):\n",
        "    if not self.grade:\n",
        "         return 0\n",
        "    return sum (self.grade)/len(self.grade)\n",
        "student1=student(\"ankita\",[90,80,70])\n",
        "average=student1.average_grade()\n",
        "print(f\"the average grade for {student1.name} is {average}\")"
      ],
      "metadata": {
        "colab": {
          "base_uri": "https://localhost:8080/"
        },
        "id": "W4smGoilzqB4",
        "outputId": "5d0a7267-ef7e-44fe-fbf2-d9dc8c664256"
      },
      "execution_count": null,
      "outputs": [
        {
          "output_type": "stream",
          "name": "stdout",
          "text": [
            "the average grade for ankita is 80.0\n"
          ]
        }
      ]
    },
    {
      "cell_type": "code",
      "source": [
        "# 13. create a class rectangle method set_dimensions() to set the dimensions and srea() to calculate the area.\n",
        "class rectangle:\n",
        "  def __init__(self,length,width):\n",
        "    self.length=length\n",
        "    self.width=width\n",
        "  def set_dimension(self,length,width):\n",
        "      self.length=length\n",
        "      self.width=width\n",
        "  def area(self):\n",
        "    return self.length*self.width\n",
        "rectangle1=rectangle(5,6)\n",
        "rectangle1.area()\n"
      ],
      "metadata": {
        "colab": {
          "base_uri": "https://localhost:8080/"
        },
        "id": "q4YcOEXX_IIy",
        "outputId": "e98e5f99-69ae-475f-fe76-21e0efd5482d"
      },
      "execution_count": null,
      "outputs": [
        {
          "output_type": "execute_result",
          "data": {
            "text/plain": [
              "30"
            ]
          },
          "metadata": {},
          "execution_count": 6
        }
      ]
    },
    {
      "cell_type": "code",
      "source": [
        "\n",
        "# 14.create a class employee wit a method calculate_salary() that computs the salary based on hours worked and hourly rate. create a derived class manager that adds a bonus to salary\n",
        "class employee:\n",
        "   def __init__(self,name,hours_worked,hourly_rate):\n",
        "    self.name=name\n",
        "    self.hours_worked=hours_worked\n",
        "    self.hourly_rate=hourly_rate\n",
        "   def calculate_salary(self):\n",
        "     return self.hours_worked*self.hourly_rate\n",
        "class manager(employee):\n",
        "  def __init__(self,name,hours_worked,hourly_rate,bonus):\n",
        "    super().__init__(name,hours_worked,hourly_rate)\n",
        "    self.bonus=bonus\n",
        "  def calculate_salary(self):\n",
        "      base_salary=super().calculate_salary()\n",
        "      return base_salary+self.bonus\n",
        "employee1 = employee(\"ankita\",40,200)\n",
        "calculate_salary1=employee1.calculate_salary()\n",
        "print(calculate_salary1)\n",
        "manager1=manager(\"ankita\",40,200,5000)\n",
        "calculate_salary2=manager1.calculate_salary()\n",
        "print(calculate_salary2)"
      ],
      "metadata": {
        "colab": {
          "base_uri": "https://localhost:8080/"
        },
        "id": "ZIlVGPfj_IWH",
        "outputId": "0a3440da-e050-4bf9-94ac-bede23591176"
      },
      "execution_count": null,
      "outputs": [
        {
          "output_type": "stream",
          "name": "stdout",
          "text": [
            "8000\n",
            "13000\n"
          ]
        }
      ]
    },
    {
      "cell_type": "code",
      "source": [
        "# 15. create a class product with attribute name,price and quantity. implement a method total_price() that calculate the total price of the product.\n",
        "class product:\n",
        "  def __init__(self,name,price, quantity):\n",
        "    self.name =name\n",
        "    self.price =price\n",
        "    self.quantity =quantity\n",
        "  def total_price(self):\n",
        "    return self.price*self.quantity\n",
        "product1=product(\"apple\",250,2)\n",
        "total_price = product1.total_price()\n",
        "print(total_price)"
      ],
      "metadata": {
        "colab": {
          "base_uri": "https://localhost:8080/"
        },
        "id": "gR010qRiDBMU",
        "outputId": "36d34cd6-4ccf-48e6-c2c2-51103feb6af1"
      },
      "execution_count": null,
      "outputs": [
        {
          "output_type": "stream",
          "name": "stdout",
          "text": [
            "500\n"
          ]
        }
      ]
    },
    {
      "cell_type": "code",
      "source": [
        "# 16. create a class animal with an abstract method sound(). create a two derived classes cow and sheep that implement the sound()method.\n",
        "from abc import ABC, abstractmethod\n",
        "class animal(ABC):\n",
        "  @abstractmethod\n",
        "  def sound(self):\n",
        "    pass\n",
        "class cow(animal):\n",
        "  def sound(self):\n",
        "     print(\"moo-moo\")\n",
        "class sheep(animal):\n",
        "  def sound(self):\n",
        "      print(\"baa-baa\")\n",
        "sheep1=sheep()\n",
        "sheep1.sound()\n",
        "cow1=cow()\n",
        "cow1.sound()"
      ],
      "metadata": {
        "colab": {
          "base_uri": "https://localhost:8080/"
        },
        "id": "PONpLZSyF9IY",
        "outputId": "e71cc2d0-b701-41b2-fb98-29aec3053494"
      },
      "execution_count": null,
      "outputs": [
        {
          "output_type": "stream",
          "name": "stdout",
          "text": [
            "baa-baa\n",
            "moo-moo\n"
          ]
        }
      ]
    },
    {
      "cell_type": "code",
      "source": [
        "# 17. create a class book with attributes title, author and year published. add a method get.book_info() that returns a formatted string with the books details.\n",
        "class book:\n",
        "  def __init__(self,name,author,year):\n",
        "    self.name=name\n",
        "    self.author=author\n",
        "    self.year=year\n",
        "  def get_book_info(self):\n",
        "    return f\"title:{self.name},author:{self.author},year:{self.year}\"\n",
        "book1 =book(\"python\",\"dr.ingle\",2021)\n",
        "book_info=book1.get_book_info()\n",
        "print(book_info)\n"
      ],
      "metadata": {
        "colab": {
          "base_uri": "https://localhost:8080/"
        },
        "id": "ZhLASzvLDBTD",
        "outputId": "0c78a8e5-f2c6-484f-d754-52e04221e935"
      },
      "execution_count": null,
      "outputs": [
        {
          "output_type": "stream",
          "name": "stdout",
          "text": [
            "title:python,author:dr.ingle,year:2021\n"
          ]
        }
      ]
    },
    {
      "cell_type": "code",
      "source": [
        "# 18. crreate a class house with attribute address and price. create a derived class mansion that adds on attribute number_of_rooms.\n",
        "class house:\n",
        "  def __init__(self,address,price):\n",
        "    self.address=address\n",
        "    self.price=price\n",
        "class mansion(house):\n",
        "   def __init__(self,address,price,number_of_rooms):\n",
        "        super().__init__(address,price)\n",
        "        self.number_of_rooms=number_of_rooms\n",
        "house1 =house(\"H-2021/2,housing-board,mathura\",20000000)\n",
        "number_of_rooms1=mansion(\"H-2021/2,housing-board,mathura\",20000000,5)\n",
        "print(house1.address)\n",
        "print(house1.price)\n",
        "print(number_of_rooms1.address)\n",
        "print(number_of_rooms1.number_of_rooms)\n",
        "print(number_of_rooms1.price)\n",
        "\n"
      ],
      "metadata": {
        "colab": {
          "base_uri": "https://localhost:8080/"
        },
        "id": "Cj6JH01nH-cJ",
        "outputId": "c1d9acf6-b0e3-43e2-e22e-10d9d53e1b7a"
      },
      "execution_count": null,
      "outputs": [
        {
          "output_type": "stream",
          "name": "stdout",
          "text": [
            "H-2021/2,housing-board,mathura\n",
            "20000000\n",
            "H-2021/2,housing-board,mathura\n",
            "5\n",
            "20000000\n"
          ]
        }
      ]
    },
    {
      "cell_type": "markdown",
      "source": [],
      "metadata": {
        "id": "fj9UiTVFmyrQ"
      }
    }
  ]
}